{
 "cells": [
  {
   "cell_type": "code",
   "execution_count": null,
   "id": "d310c61d-e1c1-4f1e-9ac9-d359b72763c1",
   "metadata": {
    "scrolled": true
   },
   "outputs": [],
   "source": [
    "\n",
    "#!!!!!!!!!!!!!!!!!!!!!!!!!!!!!!!!!!!!!!!!!!!!!!!!!Assignment 1: Working with NumPy!!!!!!!!!!!!!!!!!!!!!!!!!!!!!!!!!!!!!!!!!!!!!!!\n",
    "# NumPy is used for fast numerical operations on arrays.\n",
    "\n",
    "import numpy as np\n",
    "\n",
    "# 1. 1D NumPy array from 1 to 20\n",
    "# Perform sum, mean, median, std dev, and find indices of elements > 10.\n",
    "\n",
    "arr = np.arange(1, 21)\n",
    "print(\"Sum:\", np.sum(arr))\n",
    "print(\"Mean:\", np.mean(arr))\n",
    "print(\"Median:\", np.median(arr))\n",
    "print(\"Standard Deviation:\", np.std(arr))\n",
    "print(\"Indices of elements > 10:\", np.where(arr > 10))"
   ]
  },
  {
   "cell_type": "code",
   "execution_count": null,
   "id": "fc6ada67-6170-4038-b101-2c9fa493ef6c",
   "metadata": {
    "scrolled": true
   },
   "outputs": [],
   "source": [
    "\n",
    "# 2. 2D Array of shape 4x4 with numbers 1 to 16\n",
    "# Transpose and calculate row/column sums.\n",
    "\n",
    "arr2d = np.arange(1, 17).reshape(4, 4)\n",
    "print(\"Array:\\n\", arr2d)\n",
    "print(\"Transpose:\\n\", arr2d.T)\n",
    "print(\"Row-wise Sum:\", np.sum(arr2d, axis=1))\n",
    "print(\"Column-wise Sum:\", np.sum(arr2d, axis=0))\n"
   ]
  },
  {
   "cell_type": "code",
   "execution_count": null,
   "id": "8d05a49a-6bc0-4cf4-9e07-d1052562a268",
   "metadata": {
    "scrolled": true
   },
   "outputs": [],
   "source": [
    "\n",
    "# 3. Two random 3x3 arrays\n",
    "# Element-wise operations and dot product.\n",
    "\n",
    "a = np.random.randint(1, 21, (3, 3))\n",
    "b = np.random.randint(1, 21, (3, 3))\n",
    "print(\"Array A:\\n\", a)\n",
    "print(\"Array B:\\n\", b)\n",
    "print(\"Addition:\\n\", a + b)\n",
    "print(\"Subtraction:\\n\", a - b)\n",
    "print(\"Multiplication:\\n\", a * b)\n",
    "print(\"Dot Product:\\n\", np.dot(a, b))"
   ]
  },
  {
   "cell_type": "code",
   "execution_count": null,
   "id": "b0801871-c0c6-4f1f-a640-3f26a910fdc5",
   "metadata": {},
   "outputs": [],
   "source": [
    "\n",
    "# 4. Reshape 1D array of size 12 into 3x4 and slice\n",
    "# Extract first 2 rows and last 2 columns.\n",
    "\n",
    "array = np.arange(1, 13).reshape(3, 4)\n",
    "print(\"Original Array:\\n\", array)\n",
    "print(\"Sliced Array (First 2 rows, Last 2 cols):\\n\", array[:2, -2:])"
   ]
  },
  {
   "cell_type": "code",
   "execution_count": null,
   "id": "6bf84970-092e-4e17-92bc-30e6d6440cc3",
   "metadata": {
    "scrolled": true
   },
   "outputs": [],
   "source": [
    "# Assignment 2: Working with Pandas\n",
    "# Pandas is used for structured data manipulation and analysis.\n",
    "\n",
    "# 1. Create a DataFrame and perform basic operations.\n",
    "\n",
    "import pandas as pd\n",
    "\n",
    "data = {\n",
    "    'Name': ['Alice', 'Bob', 'Charlie', 'Diana', 'Eve'],\n",
    "    'Age': [24, 27, 22, 32, 29],\n",
    "    'Department': ['HR', 'Finance', 'IT', 'Marketing', 'HR'],\n",
    "    'Salary': [45000, 54000, 50000, 62000, 47000]\n",
    "}\n",
    "df = pd.DataFrame(data)\n",
    "print(df.head())\n",
    "\n",
    "print(\"\\nSummary Statistics (Age & Salary):\\n\", df[['Age', 'Salary']].describe())\n",
    "\n",
    "print(\"\\nAverage Salary (HR Dept):\", df[df['Department'] == 'HR']['Salary'].mean())\n",
    "\n",
    "# 2. Add 'Bonus' column (10% of Salary).\n",
    "df['Bonus'] = df['Salary'] * 0.10\n",
    "print(df)\n",
    "\n",
    "# 3. Filter employees aged between 25 and 30.\n",
    "filtered_df = df[(df['Age'] >= 25) & (df['Age'] <= 30)]\n",
    "print(filtered_df)\n",
    "\n",
    "# 4. Group by 'Department' and calculate average salary.\n",
    "grouped = df.groupby('Department')['Salary'].mean()\n",
    "print(grouped)\n",
    "\n",
    "\n",
    "# 5. Sort by Salary and save to CSV.\n",
    "sorted_df = df.sort_values(by='Salary')\n",
    "sorted_df.to_csv('sorted_employees.csv', index=False)\n",
    "print(sorted_df)\n",
    "\n"
   ]
  },
  {
   "cell_type": "code",
   "execution_count": null,
   "id": "fbd2767f-b9dc-4007-adbd-f05a1b90b6e9",
   "metadata": {},
   "outputs": [],
   "source": [
    "# Assignment 3: Working with Matplotlib\n",
    "# Matplotlib is used for data visualization.\n",
    "\n",
    "import matplotlib.pyplot as plt\n",
    "\n",
    "# 1. Line plot of x and y values with customization.\n",
    "# Simple Line Plot\n",
    "x = [1, 2, 3, 4, 5]\n",
    "y = [10, 15, 25, 30, 50]\n",
    "plt.plot(x, y, marker='o')\n",
    "plt.title(\"Simple Line Plot\")\n",
    "plt.xlabel(\"X-axis\")\n",
    "plt.ylabel(\"Y-axis\")\n",
    "plt.grid(True)\n",
    "plt.show()\n",
    "\n",
    "# 2. Bar graph of student marks.\n",
    "# Student Marks\n",
    "students = ['John', 'Jane', 'Alice', 'Bob']\n",
    "marks = [75, 85, 60, 90]\n",
    "plt.bar(students, marks, color='skyblue')\n",
    "plt.title(\"Student Marks\")\n",
    "plt.xlabel(\"Students\")\n",
    "plt.ylabel(\"Marks\")\n",
    "plt.show()\n",
    "\n",
    "# 3. Pie chart for revenue distribution with highlight.\n",
    "# Revenue Distribution \n",
    "regions = ['North America', 'Europe', 'Asia', 'Others']\n",
    "revenue = [45, 25, 20, 10]\n",
    "explode = [0.1, 0, 0, 0]  # Highlight first slice\n",
    "plt.pie(revenue, labels=regions, explode=explode, autopct='%1.1f%%')\n",
    "plt.title(\"Revenue Distribution\")\n",
    "plt.show()\n",
    "\n",
    "# 4. Histogram of random integers (1 to 100, size=1000).\n",
    "# Histogram of Random Integers\n",
    "data = np.random.randint(1, 101, 1000)\n",
    "plt.hist(data, bins=20, color='lightgreen', edgecolor='black')\n",
    "plt.title(\"Histogram of Random Integers\")\n",
    "plt.xlabel(\"Value\")\n",
    "plt.ylabel(\"Frequency\")\n",
    "plt.show()"
   ]
  },
  {
   "cell_type": "code",
   "execution_count": null,
   "id": "2dfac2dc-1b02-45c4-a0a7-d50b28e8e1e7",
   "metadata": {},
   "outputs": [],
   "source": []
  },
  {
   "cell_type": "code",
   "execution_count": null,
   "id": "f6852c90-02dd-4d4f-93e4-40c5640850b0",
   "metadata": {},
   "outputs": [],
   "source": []
  },
  {
   "cell_type": "code",
   "execution_count": null,
   "id": "a4069244-d07a-4554-8133-f3f26ec269b2",
   "metadata": {},
   "outputs": [],
   "source": []
  }
 ],
 "metadata": {
  "kernelspec": {
   "display_name": "Python 3 (ipykernel)",
   "language": "python",
   "name": "python3"
  },
  "language_info": {
   "codemirror_mode": {
    "name": "ipython",
    "version": 3
   },
   "file_extension": ".py",
   "mimetype": "text/x-python",
   "name": "python",
   "nbconvert_exporter": "python",
   "pygments_lexer": "ipython3",
   "version": "3.13.5"
  }
 },
 "nbformat": 4,
 "nbformat_minor": 5
}
